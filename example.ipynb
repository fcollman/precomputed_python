{
 "cells": [
  {
   "cell_type": "code",
   "execution_count": 1,
   "metadata": {},
   "outputs": [],
   "source": [
    "from precomputed_python import AnnotationReader, morton_code_to_gridpt, compressed_morton_code\n",
    "import numpy as np\n",
    "import pandas as pd\n",
    "import asyncio\n",
    "import tensorstore as ts"
   ]
  },
  {
   "cell_type": "code",
   "execution_count": 2,
   "metadata": {},
   "outputs": [
    {
     "name": "stderr",
     "output_type": "stream",
     "text": [
      "I0331 16:50:54.502856 7285602 google_auth_provider.cc:149] Using credentials at /Users/forrestc/.config/gcloud/application_default_credentials.json\n",
      "I0331 16:50:54.504095 7285602 google_auth_provider.cc:156] Using OAuth2 AuthProvider\n"
     ]
    }
   ],
   "source": [
    "# pre_ann=AnnotationReader(\"gs://neuroglancer-20191211_fafbv14_buhmann2019_li20190805\")\n",
    "# ann = pre_ann.get_by_id(233446588)\n",
    "pre_ann = AnnotationReader(\"gs://allen_neuroglancer_ccf/mesoscale_connectivity_atlas_points_v9\")\n",
    "# pre_ann = AnnotationReader(\"gs://allen_neuroglancer_ccf/merscope_ccffix_1\")\n"
   ]
  },
  {
   "cell_type": "code",
   "execution_count": 4,
   "metadata": {},
   "outputs": [
    {
     "data": {
      "text/plain": [
       "['rel_structure_id', 'rel_experiment_id']"
      ]
     },
     "execution_count": 4,
     "metadata": {},
     "output_type": "execute_result"
    }
   ],
   "source": [
    "pre_ann.get_relationships()"
   ]
  },
  {
   "cell_type": "code",
   "execution_count": 5,
   "metadata": {},
   "outputs": [
    {
     "data": {
      "text/plain": [
       "['injection_volume',\n",
       " 'transgenic_line',\n",
       " 'structure_abbrev',\n",
       " 'structure_name',\n",
       " 'gender',\n",
       " 'structure_color']"
      ]
     },
     "execution_count": 5,
     "metadata": {},
     "output_type": "execute_result"
    }
   ],
   "source": [
    "pre_ann.get_property_names()"
   ]
  },
  {
   "cell_type": "code",
   "execution_count": 7,
   "metadata": {},
   "outputs": [
    {
     "data": {
      "text/plain": [
       "[AnnotationPropertySpec({\"description\": \"injection_volume\", \"id\": \"injection_volume\", \"type\": \"float32\"}),\n",
       " AnnotationPropertySpec({\"description\": \"transgenic_line\", \"enum_labels\": [\"nan\", \"Rbp4-Cre_KL100\", \"Slc6a4-Cre_ET33\", \"Vipr2-Cre_KE2\", \"Rasgrf2-T2A-dCre\", \"Emx1-IRES-Cre\", \"Gpr26-Cre_KO250\", \"Slc6a4-CreERT2_EZ13\", \"Erbb4-T2A-CreERT2\", \"Trib2-F2A-CreERT2\", \"Fezf1-T2A-dCre\", \"Efr3a-Cre_NO108\", \"Slc17a6-IRES-Cre\", \"Cux2-IRES-Cre\", \"Esr1-2A-Cre\", \"Ppp1r17-Cre_NL146\", \"Slc6a5-Cre_KF109\", \"Ntng2-IRES2-Cre\", \"Cart-Tg1-Cre\", \"Gnb4-IRES2-Cre\", \"Glt25d2-Cre_NF107\", \"Sim1-Cre_KJ18\", \"Grik4-Cre\", \"Cck-IRES-Cre\", \"Grm2-Cre_MR90\", \"Th-Cre_FI172\", \"Plxnd1-Cre_OG1\", \"Slc18a2-Cre_OZ14\", \"Slc6a3-Cre\", \"Syt17-Cre_NO14\", \"Prkcd-GluCla-CFP-IRES-Cre\", \"Slc32a1-IRES-Cre\", \"Adcyap1-2A-Cre\", \"Cnnm2-Cre_KD18\", \"Ntrk1-IRES-Cre\", \"Satb2-Cre_MO23\", \"A930038C07Rik-Tg1-Cre\", \"Calb1-T2A-dgCre\", \"Tlx3-Cre_PL56\", \"Chat-IRES-Cre-neo\", \"Drd1a-Cre_EY262\", \"Grp-Cre_KH288\", \"Lypd6-Cre_KL156\", \"Kcng4-Cre\", \"Tac1-IRES2-Cre\", \"Htr2a-Cre_KM207\", \"Cux2-CreERT2\", \"Drd3-Cre_KI198\", \"Etv1-CreERT2\", \"Syt6-Cre_KI148\", \"Pvalb-IRES-Cre\", \"Nkx2-1-CreERT2\", \"Dlg3-Cre_KG118\", \"Dbh-Cre_KH212\", \"Oxtr-Cre_ON66\", \"Ai75(RCL-nT)\", \"Drd3-Cre_KI196\", \"Slc17a7-IRES2-Cre\", \"Pomc-Cre_BL\", \"Rorb-IRES2-Cre\", \"Otof-Cre\", \"Oxtr-T2A-Cre\", \"Calb2-IRES-Cre\", \"Gad2-IRES-Cre\", \"Gng7-Cre_KH71\", \"Jam2-Cre\", \"Tacr1-T2A-Cre\", \"Crh-IRES-Cre_ZJH\", \"Gal-Cre_KI87\", \"Kcnc2-Cre\", \"Npr3-IRES2-Cre\", \"Sst-IRES-Cre\", \"Scnn1a-Tg3-Cre\", \"Thy1-Cre\", \"Gabrr3-Cre_KC112\", \"Crh-IRES-Cre_BL\", \"Pdzk1ip1-Cre_KD31\", \"Pmch-Cre\", \"Nos1-CreERT2\", \"Chrna2-Cre_OE25\", \"Th-IRES-CreER\", \"Hdc-Cre_IM1\", \"Slc17a8-IRES2-Cre\", \"Hcrt-Cre\", \"Chrnb4-Cre_OL57\", \"Cdhr1-Cre_KG66\", \"Lepr-IRES-Cre\", \"Nr5a1-Cre\", \"Drd2-Cre_ER44\", \"Ntsr1-Cre_GN220\", \"Scnn1a-Tg2-Cre\", \"Htr1a-IRES2-Cre\", \"Foxp2-IRES-Cre\", \"Htr3a-Cre_NO152\", \"Tac2-IRES2-Cre\", \"Sepw1-Cre_NP39\", \"Wfs1-Tg2-CreERT2\", \"Pnmt-Cre\", \"Pdyn-T2A-CreERT2\", \"Ucn3-Cre_KF43\", \"Cort-T2A-Cre\", \"Nxph4-T2A-CreERT2\", \"Ctgf-T2A-dgCre\", \"Sdk2-CreER\", \"Kiss1-Cre\", \"Esr2-IRES2-Cre\", \"Cdh6-CreER\", \"Gabra6-IRES-Cre\", \"Cdh4-CreER\", \"Penk-IRES2-Cre-neo\", \"Ins2-Cre_25\", \"Pcp2-Cre_GN135\", \"Agrp-IRES-Cre\", \"Neto1-Cre\", \"Pcdh9-Cre_NP276\", \"Pvalb-T2A-CreERT2\", \"Cart-IRES2-Cre\", \"Jam2-CreER\", \"Vip-IRES-Cre\", \"Oxt-IRES-Cre\", \"Ndnf-IRES2-dgCre\", \"Sst-Cre\", \"Pomc-Cre_ST\", \"Gnrh1-Cre\", \"Vipr2-IRES2-Cre\", \"Avp-IRES2-Cre\", \"Slc17a8-iCre\", \"Wfs1-Tg3-CreERT2\", \"Penk-2A-CreERT2\", \"Gnb4-IRES2-CreERT2\", \"Rorb-IRES2-Cre-neo\"], \"enum_values\": [0, 1, 2, 3, 4, 5, 6, 7, 8, 9, 10, 11, 12, 13, 14, 15, 16, 17, 18, 19, 20, 21, 22, 23, 24, 25, 26, 27, 28, 29, 30, 31, 32, 33, 34, 35, 36, 37, 38, 39, 40, 41, 42, 43, 44, 45, 46, 47, 48, 49, 50, 51, 52, 53, 54, 55, 56, 57, 58, 59, 60, 61, 62, 63, 64, 65, 66, 67, 68, 69, 70, 71, 72, 73, 74, 75, 76, 77, 78, 79, 80, 81, 82, 83, 84, 85, 86, 87, 88, 89, 90, 91, 92, 93, 94, 95, 96, 97, 98, 99, 100, 101, 102, 103, 104, 105, 106, 107, 108, 109, 110, 111, 112, 113, 114, 115, 116, 117, 118, 119, 120, 121, 122, 123, 124, 125, 126, 127, 128, 129, 130], \"id\": \"transgenic_line\", \"type\": \"uint16\"}),\n",
       " AnnotationPropertySpec({\"description\": \"structure_abbrev\", \"enum_labels\": [\"VISC\", \"ECT\", \"MOs\", \"ORBvl\", \"NDB\", \"RE\", \"BLA\", \"DR\", \"MOp\", \"VMH\", \"PIR\", \"AIv\", \"SSp-m\", \"PF\", \"MM\", \"ENTl\", \"AHN\", \"PL\", \"SSp-bfd\", \"ORBl\", \"VTA\", \"ACAv\", \"CP\", \"AId\", \"SSp-ul\", \"SSs\", \"BMA\", \"MD\", \"PGRNl\", \"PVT\", \"VISp\", \"IPN\", \"GRN\", \"VISli\", \"DMH\", \"ACAd\", \"MRN\", \"AUDpo\", \"ENTm\", \"MDRN\", \"PAA\", \"BST\", \"ZI\", \"CLA\", \"TU\", \"ILA\", \"MS\", \"VISl\", \"LHA\", \"CA3\", \"PT\", \"PRNc\", \"VISpor\", \"COAp\", \"PO\", \"AAA\", \"RSPagl\", \"MEA\", \"VISam\", \"TRN\", \"SUB\", \"PH\", \"AUDd\", \"PB\", \"AUDp\", \"TT\", \"CM\", \"CEA\", \"SSp-tr\", \"MPO\", \"RSPv\", \"ORBm\", \"VISpm\", \"SSp-ll\", \"SGN\", \"SCm\", \"SNr\", \"IRN\", \"LGv\", \"APN\", \"VISal\", \"PSTN\", \"IC\", \"PAG\", \"AON\", \"VISa\", \"VM\", \"LP\", \"SI\", \"VISrl\", \"SSp-n\", \"DG\", \"IF\", \"NLOT\", \"ACB\", \"SAG\", \"CS\", \"LD\", \"RN\", \"NLL\", \"CA1\", \"AM\", \"PMv\", \"LSr\", \"VAL\", \"MV\", \"ProS\", \"GPe\", \"SPVO\", \"TR\", \"MPN\", \"VCO\", \"MARN\", \"RPO\", \"LDT\", \"LSv\", \"AIp\", \"POST\", \"ARH\", \"SCs\", \"LGd\", \"AV\", \"PIL\", \"VPM\", \"NTS\", \"FRP\", \"CUN\", \"PRNr\", \"retina\", \"SMT\", \"STN\", \"AUDv\", \"LPO\", \"XII\", \"VISpl\", \"PSV\", \"GU\", \"IP\", \"PARN\", \"PVp\", \"DP\", \"IO\", \"NPC\", \"SPVI\", \"LA\", \"SUM\", \"RT\", \"PRP\", \"SPVC\", \"VII\", \"LM\", \"PPN\", \"PCG\", \"PVH\", \"MOB\", \"PPT\", \"FN\", \"RSPd\", \"PG\", \"SF\", \"TMv\", \"PRE\", \"EPd\", \"NI\", \"VPL\", \"NOT\", \"AOB\", \"LRN\", \"IMD\", \"CLI\", \"RO\", \"DCO\", \"SPIV\", \"V\", \"PCN\", \"SPFm\", \"LH\", \"PA\", \"VPMpc\", \"PAR\", \"DN\", \"PVHd\", \"MG\", \"SSp-un\", \"CUL\", \"PFL\", \"MH\", \"AN\", \"TRS\", \"TEa\", \"NOD\", \"GPi\", \"ADP\", \"CENT\", \"GR\", \"OP\", \"OT\", \"SIM\", \"PYR\", \"SBPV\", \"SOC\", \"AVPV\", \"LSc\", \"NTB\", \"COPY\", \"III\", \"SLD\", \"SUT\", \"IAD\", \"SCH\", \"PRM\", \"VI\", \"SO\", \"DMX\", \"PR\", \"AD\", \"APr\", \"FL\"], \"enum_values\": [0, 1, 2, 3, 4, 5, 6, 7, 8, 9, 10, 11, 12, 13, 14, 15, 16, 17, 18, 19, 20, 21, 22, 23, 24, 25, 26, 27, 28, 29, 30, 31, 32, 33, 34, 35, 36, 37, 38, 39, 40, 41, 42, 43, 44, 45, 46, 47, 48, 49, 50, 51, 52, 53, 54, 55, 56, 57, 58, 59, 60, 61, 62, 63, 64, 65, 66, 67, 68, 69, 70, 71, 72, 73, 74, 75, 76, 77, 78, 79, 80, 81, 82, 83, 84, 85, 86, 87, 88, 89, 90, 91, 92, 93, 94, 95, 96, 97, 98, 99, 100, 101, 102, 103, 104, 105, 106, 107, 108, 109, 110, 111, 112, 113, 114, 115, 116, 117, 118, 119, 120, 121, 122, 123, 124, 125, 126, 127, 128, 129, 130, 131, 132, 133, 134, 135, 136, 137, 138, 139, 140, 141, 142, 143, 144, 145, 146, 147, 148, 149, 150, 151, 152, 153, 154, 155, 156, 157, 158, 159, 160, 161, 162, 163, 164, 165, 166, 167, 168, 169, 170, 171, 172, 173, 174, 175, 176, 177, 178, 179, 180, 181, 182, 183, 184, 185, 186, 187, 188, 189, 190, 191, 192, 193, 194, 195, 196, 197, 198, 199, 200, 201, 202, 203, 204, 205, 206, 207, 208, 209, 210, 211, 212, 213, 214, 215, 216, 217], \"id\": \"structure_abbrev\", \"type\": \"uint16\"}),\n",
       " AnnotationPropertySpec({\"description\": \"structure_name\", \"enum_labels\": [\"Visceral area\", \"Ectorhinal area\", \"Secondary motor area\", \"Orbital area, ventrolateral part\", \"Diagonal band nucleus\", \"Nucleus of reuniens\", \"Basolateral amygdalar nucleus\", \"Dorsal nucleus raphe\", \"Primary motor area\", \"Ventromedial hypothalamic nucleus\", \"Piriform area\", \"Agranular insular area, ventral part\", \"Primary somatosensory area, mouth\", \"Parafascicular nucleus\", \"Medial mammillary nucleus\", \"Entorhinal area, lateral part\", \"Anterior hypothalamic nucleus\", \"Prelimbic area\", \"Primary somatosensory area, barrel field\", \"Orbital area, lateral part\", \"Ventral tegmental area\", \"Anterior cingulate area, ventral part\", \"Caudoputamen\", \"Agranular insular area, dorsal part\", \"Primary somatosensory area, upper limb\", \"Supplemental somatosensory area\", \"Basomedial amygdalar nucleus\", \"Mediodorsal nucleus of thalamus\", \"Paragigantocellular reticular nucleus, lateral part\", \"Paraventricular nucleus of the thalamus\", \"Primary visual area\", \"Interpeduncular nucleus\", \"Gigantocellular reticular nucleus\", \"Laterointermediate area\", \"Dorsomedial nucleus of the hypothalamus\", \"Anterior cingulate area, dorsal part\", \"Midbrain reticular nucleus\", \"Posterior auditory area\", \"Entorhinal area, medial part, dorsal zone\", \"Medullary reticular nucleus\", \"Piriform-amygdalar area\", \"Bed nuclei of the stria terminalis\", \"Zona incerta\", \"Claustrum\", \"Tuberal nucleus\", \"Infralimbic area\", \"Medial septal nucleus\", \"Lateral visual area\", \"Lateral hypothalamic area\", \"Field CA3\", \"Parataenial nucleus\", \"Pontine reticular nucleus, caudal part\", \"Postrhinal area\", \"Cortical amygdalar area, posterior part\", \"Posterior complex of the thalamus\", \"Anterior amygdalar area\", \"Retrosplenial area, lateral agranular part\", \"Medial amygdalar nucleus\", \"Anteromedial visual area\", \"Tegmental reticular nucleus\", \"Subiculum\", \"Posterior hypothalamic nucleus\", \"Dorsal auditory area\", \"Parabrachial nucleus\", \"Primary auditory area\", \"Taenia tecta\", \"Central medial nucleus of the thalamus\", \"Central amygdalar nucleus\", \"Primary somatosensory area, trunk\", \"Medial preoptic area\", \"Retrosplenial area, ventral part\", \"Orbital area, medial part\", \"posteromedial visual area\", \"Primary somatosensory area, lower limb\", \"Suprageniculate nucleus\", \"Superior colliculus, motor related\", \"Substantia nigra, reticular part\", \"Intermediate reticular nucleus\", \"Ventral part of the lateral geniculate complex\", \"Anterior pretectal nucleus\", \"Anterolateral visual area\", \"Parasubthalamic nucleus\", \"Inferior colliculus\", \"Periaqueductal gray\", \"Anterior olfactory nucleus\", \"Anterior area\", \"Ventral medial nucleus of the thalamus\", \"Lateral posterior nucleus of the thalamus\", \"Substantia innominata\", \"Rostrolateral visual area\", \"Primary somatosensory area, nose\", \"Dentate gyrus\", \"Interfascicular nucleus raphe\", \"Nucleus of the lateral olfactory tract\", \"Nucleus accumbens\", \"Nucleus sagulum\", \"Superior central nucleus raphe\", \"Lateral dorsal nucleus of thalamus\", \"Red nucleus\", \"Nucleus of the lateral lemniscus\", \"Field CA1\", \"Anteromedial nucleus\", \"Ventral premammillary nucleus\", \"Lateral septal nucleus, rostral (rostroventral) part\", \"Ventral anterior-lateral complex of the thalamus\", \"Medial vestibular nucleus\", \"Prosubiculum\", \"Globus pallidus, external segment\", \"Spinal nucleus of the trigeminal, oral part\", \"Postpiriform transition area\", \"Medial preoptic nucleus\", \"Ventral cochlear nucleus\", \"Magnocellular reticular nucleus\", \"Nucleus raphe pontis\", \"Laterodorsal tegmental nucleus\", \"Lateral septal nucleus, ventral part\", \"Agranular insular area, posterior part\", \"Postsubiculum\", \"Arcuate hypothalamic nucleus\", \"Superior colliculus, sensory related\", \"Dorsal part of the lateral geniculate complex\", \"Anteroventral nucleus of thalamus\", \"Posterior intralaminar thalamic nucleus\", \"Ventral posteromedial nucleus of the thalamus\", \"Nucleus of the solitary tract\", \"Frontal pole, cerebral cortex\", \"Cuneiform nucleus\", \"Pontine reticular nucleus\", \"retina\", \"Submedial nucleus of the thalamus\", \"Subthalamic nucleus\", \"Ventral auditory area\", \"Lateral preoptic area\", \"Hypoglossal nucleus\", \"Posterolateral visual area\", \"Principal sensory nucleus of the trigeminal\", \"Gustatory areas\", \"Interposed nucleus\", \"Parvicellular reticular nucleus\", \"Periventricular hypothalamic nucleus, posterior part\", \"Dorsal peduncular area\", \"Inferior olivary complex\", \"Nucleus of the posterior commissure\", \"Spinal nucleus of the trigeminal, interpolar part\", \"Lateral amygdalar nucleus\", \"Supramammillary nucleus\", \"Reticular nucleus of the thalamus\", \"Nucleus prepositus\", \"Spinal nucleus of the trigeminal, caudal part\", \"Facial motor nucleus\", \"Lateral mammillary nucleus\", \"Pedunculopontine nucleus\", \"Pontine central gray\", \"Paraventricular hypothalamic nucleus\", \"Main olfactory bulb\", \"Posterior pretectal nucleus\", \"Fastigial nucleus\", \"Retrosplenial area, dorsal part\", \"Pontine gray\", \"Septofimbrial nucleus\", \"Tuberomammillary nucleus, ventral part\", \"Presubiculum\", \"Endopiriform nucleus, dorsal part\", \"Nucleus incertus\", \"Ventral posterolateral nucleus of the thalamus\", \"Nucleus of the optic tract\", \"Accessory olfactory bulb\", \"Lateral reticular nucleus\", \"Intermediodorsal nucleus of the thalamus\", \"Central linear nucleus raphe\", \"Nucleus raphe obscurus\", \"Dorsal cochlear nucleus\", \"Spinal vestibular nucleus\", \"Motor nucleus of trigeminal\", \"Paracentral nucleus\", \"Subparafascicular nucleus, magnocellular part\", \"Lateral habenula\", \"Posterior amygdalar nucleus\", \"Ventral posteromedial nucleus of the thalamus, parvicellular part\", \"Parasubiculum\", \"Dentate nucleus\", \"Paraventricular hypothalamic nucleus, descending division\", \"Medial geniculate complex\", \"Primary somatosensory area, unassigned\", \"Culmen\", \"Paraflocculus\", \"Medial habenula\", \"Ansiform lobule\", \"Triangular nucleus of septum\", \"Temporal association areas\", \"Nodulus (X)\", \"Globus pallidus, internal segment\", \"Anterodorsal preoptic nucleus\", \"Central lobule\", \"Gracile nucleus\", \"Olivary pretectal nucleus\", \"Olfactory tubercle\", \"Simple lobule\", \"Pyramus (VIII)\", \"Subparaventricular zone\", \"Superior olivary complex\", \"Anteroventral periventricular nucleus\", \"Lateral septal nucleus, caudal (caudodorsal) part\", \"Nucleus of the trapezoid body\", \"Copula pyramidis\", \"Oculomotor nucleus\", \"Sublaterodorsal nucleus\", \"Supratrigeminal nucleus\", \"Interanterodorsal nucleus of the thalamus\", \"Suprachiasmatic nucleus\", \"Paramedian lobule\", \"Abducens nucleus\", \"Supraoptic nucleus\", \"Dorsal motor nucleus of the vagus nerve\", \"Perireunensis nucleus\", \"Anterodorsal nucleus\", \"Area prostriata\", \"Flocculus\"], \"enum_values\": [0, 1, 2, 3, 4, 5, 6, 7, 8, 9, 10, 11, 12, 13, 14, 15, 16, 17, 18, 19, 20, 21, 22, 23, 24, 25, 26, 27, 28, 29, 30, 31, 32, 33, 34, 35, 36, 37, 38, 39, 40, 41, 42, 43, 44, 45, 46, 47, 48, 49, 50, 51, 52, 53, 54, 55, 56, 57, 58, 59, 60, 61, 62, 63, 64, 65, 66, 67, 68, 69, 70, 71, 72, 73, 74, 75, 76, 77, 78, 79, 80, 81, 82, 83, 84, 85, 86, 87, 88, 89, 90, 91, 92, 93, 94, 95, 96, 97, 98, 99, 100, 101, 102, 103, 104, 105, 106, 107, 108, 109, 110, 111, 112, 113, 114, 115, 116, 117, 118, 119, 120, 121, 122, 123, 124, 125, 126, 127, 128, 129, 130, 131, 132, 133, 134, 135, 136, 137, 138, 139, 140, 141, 142, 143, 144, 145, 146, 147, 148, 149, 150, 151, 152, 153, 154, 155, 156, 157, 158, 159, 160, 161, 162, 163, 164, 165, 166, 167, 168, 169, 170, 171, 172, 173, 174, 175, 176, 177, 178, 179, 180, 181, 182, 183, 184, 185, 186, 187, 188, 189, 190, 191, 192, 193, 194, 195, 196, 197, 198, 199, 200, 201, 202, 203, 204, 205, 206, 207, 208, 209, 210, 211, 212, 213, 214, 215, 216, 217], \"id\": \"structure_name\", \"type\": \"uint16\"}),\n",
       " AnnotationPropertySpec({\"description\": \"gender\", \"enum_labels\": [\"M\", \"F\"], \"enum_values\": [0, 1], \"id\": \"gender\", \"type\": \"uint16\"}),\n",
       " AnnotationPropertySpec({\"description\": \"structure_color\", \"id\": \"structure_color\", \"type\": \"rgb\"})]"
      ]
     },
     "execution_count": 7,
     "metadata": {},
     "output_type": "execute_result"
    }
   ],
   "source": [
    "pre_ann.properties"
   ]
  },
  {
   "cell_type": "code",
   "execution_count": 6,
   "metadata": {},
   "outputs": [
    {
     "data": {
      "text/plain": [
       "CoordinateSpace({'x': [np.float64(1e-06), 'm'], 'y': [np.float64(1e-06), 'm'], 'z': [np.float64(1e-06), 'm']})"
      ]
     },
     "execution_count": 6,
     "metadata": {},
     "output_type": "execute_result"
    }
   ],
   "source": [
    "pre_ann.coordinate_space"
   ]
  },
  {
   "cell_type": "code",
   "execution_count": 3,
   "metadata": {},
   "outputs": [
    {
     "data": {
      "text/plain": [
       "array([100147785, 100147853, 100147861, ..., 666909423, 671463542,\n",
       "       671464291], dtype='>u8')"
      ]
     },
     "execution_count": 3,
     "metadata": {},
     "output_type": "execute_result"
    }
   ],
   "source": [
    "all_ids = pre_ann.get_all_annotation_ids()\n",
    "all_ids"
   ]
  },
  {
   "cell_type": "code",
   "execution_count": 4,
   "metadata": {},
   "outputs": [
    {
     "data": {
      "text/plain": [
       "{'injection_volume': np.float32(0.1759717),\n",
       " 'transgenic_line': np.uint16(0),\n",
       " 'structure_abbrev': np.uint16(54),\n",
       " 'structure_name': np.uint16(54),\n",
       " 'gender': np.uint16(0),\n",
       " 'structure_color': array([255, 144, 159], dtype=uint8),\n",
       " 'padding15': array([0], dtype=uint8),\n",
       " 'structure_id': array([1020], dtype=uint64),\n",
       " 'experiment_id': array([100147785], dtype=uint64),\n",
       " 'point': array([7600., 3380., 7070.], dtype=float32)}"
      ]
     },
     "execution_count": 4,
     "metadata": {},
     "output_type": "execute_result"
    }
   ],
   "source": [
    "ann=pre_ann.get_by_id(all_ids[0])\n",
    "ann"
   ]
  },
  {
   "cell_type": "code",
   "execution_count": 5,
   "metadata": {},
   "outputs": [
    {
     "ename": "ValueError",
     "evalue": "FAILED_PRECONDITION: Error reading minishard 1 in gs://allen_neuroglancer_ccf/mesoscale_connectivity_atlas_points_v9/rel_structure_id/0.shard: Range Not Satisfiable [http_response_code='416'] [http_response_body='Request range not satisfiable'] [x-guploader-uploadid='AKDAyIuyvw1GsxS4YnxrwdXS2d-aO1Vjzk36xBUMh7jbc4gToyCS4SJpKwCpCNak0DDUg2_c'] [source locations='tensorstore/kvstore/gcs_http/gcs_key_value_store.cc:592\\ntensorstore/kvstore/generic_coalescing_batch_util.h:113\\ntensorstore/kvstore/neuroglancer_uint64_sharded/neuroglancer_uint64_sharded.cc:316\\ntensorstore/kvstore/neuroglancer_uint64_sharded/neuroglancer_uint64_sharded.cc:316\\ntensorstore/internal/cache/kvs_backed_cache.h:208']",
     "output_type": "error",
     "traceback": [
      "\u001b[0;31m---------------------------------------------------------------------------\u001b[0m",
      "\u001b[0;31mValueError\u001b[0m                                Traceback (most recent call last)",
      "Cell \u001b[0;32mIn[5], line 1\u001b[0m\n\u001b[0;32m----> 1\u001b[0m df \u001b[38;5;241m=\u001b[39m\u001b[43mpre_ann\u001b[49m\u001b[38;5;241;43m.\u001b[39;49m\u001b[43mget_by_relationship\u001b[49m\u001b[43m(\u001b[49m\u001b[38;5;124;43m'\u001b[39;49m\u001b[38;5;124;43mstructure_id\u001b[39;49m\u001b[38;5;124;43m'\u001b[39;49m\u001b[43m,\u001b[49m\u001b[43m \u001b[49m\u001b[43mann\u001b[49m\u001b[43m[\u001b[49m\u001b[38;5;124;43m'\u001b[39;49m\u001b[38;5;124;43mstructure_id\u001b[39;49m\u001b[38;5;124;43m'\u001b[39;49m\u001b[43m]\u001b[49m\u001b[43m[\u001b[49m\u001b[38;5;241;43m0\u001b[39;49m\u001b[43m]\u001b[49m\u001b[43m)\u001b[49m\n\u001b[1;32m      2\u001b[0m df\n",
      "File \u001b[0;32m~/ConnectomeStack/precomputed_python/src/precomputed_python/__init__.py:412\u001b[0m, in \u001b[0;36mAnnotationReader.get_by_relationship\u001b[0;34m(self, relationship, related_id)\u001b[0m\n\u001b[1;32m    410\u001b[0m \u001b[38;5;28;01melif\u001b[39;00m tstype \u001b[38;5;241m==\u001b[39m \u001b[38;5;124m\"\u001b[39m\u001b[38;5;124munsharded\u001b[39m\u001b[38;5;124m\"\u001b[39m:\n\u001b[1;32m    411\u001b[0m     key \u001b[38;5;241m=\u001b[39m \u001b[38;5;28mstr\u001b[39m(related_id)\n\u001b[0;32m--> 412\u001b[0m annbytes \u001b[38;5;241m=\u001b[39m \u001b[43mrel_ts\u001b[49m\u001b[43m[\u001b[49m\u001b[43mkey\u001b[49m\u001b[43m]\u001b[49m\n\u001b[1;32m    413\u001b[0m \u001b[38;5;28;01mif\u001b[39;00m annbytes \u001b[38;5;129;01mis\u001b[39;00m \u001b[38;5;28;01mNone\u001b[39;00m:\n\u001b[1;32m    414\u001b[0m     \u001b[38;5;28;01mreturn\u001b[39;00m pd\u001b[38;5;241m.\u001b[39mDataFrame()  \u001b[38;5;66;03m# No annotations found for this relationship\u001b[39;00m\n",
      "\u001b[0;31mValueError\u001b[0m: FAILED_PRECONDITION: Error reading minishard 1 in gs://allen_neuroglancer_ccf/mesoscale_connectivity_atlas_points_v9/rel_structure_id/0.shard: Range Not Satisfiable [http_response_code='416'] [http_response_body='Request range not satisfiable'] [x-guploader-uploadid='AKDAyIuyvw1GsxS4YnxrwdXS2d-aO1Vjzk36xBUMh7jbc4gToyCS4SJpKwCpCNak0DDUg2_c'] [source locations='tensorstore/kvstore/gcs_http/gcs_key_value_store.cc:592\\ntensorstore/kvstore/generic_coalescing_batch_util.h:113\\ntensorstore/kvstore/neuroglancer_uint64_sharded/neuroglancer_uint64_sharded.cc:316\\ntensorstore/kvstore/neuroglancer_uint64_sharded/neuroglancer_uint64_sharded.cc:316\\ntensorstore/internal/cache/kvs_backed_cache.h:208']"
     ]
    }
   ],
   "source": [
    "df =pre_ann.get_by_relationship('structure_id', ann['structure_id'][0])\n",
    "df"
   ]
  },
  {
   "cell_type": "code",
   "execution_count": 6,
   "metadata": {},
   "outputs": [
    {
     "data": {
      "text/html": [
       "<div>\n",
       "<style scoped>\n",
       "    .dataframe tbody tr th:only-of-type {\n",
       "        vertical-align: middle;\n",
       "    }\n",
       "\n",
       "    .dataframe tbody tr th {\n",
       "        vertical-align: top;\n",
       "    }\n",
       "\n",
       "    .dataframe thead th {\n",
       "        text-align: right;\n",
       "    }\n",
       "</style>\n",
       "<table border=\"1\" class=\"dataframe\">\n",
       "  <thead>\n",
       "    <tr style=\"text-align: right;\">\n",
       "      <th></th>\n",
       "      <th>injection_volume</th>\n",
       "      <th>transgenic_line</th>\n",
       "      <th>structure_abbrev</th>\n",
       "      <th>structure_name</th>\n",
       "      <th>gender</th>\n",
       "      <th>structure_color</th>\n",
       "      <th>padding15</th>\n",
       "      <th>structure_id</th>\n",
       "      <th>experiment_id</th>\n",
       "      <th>point</th>\n",
       "    </tr>\n",
       "    <tr>\n",
       "      <th>ID</th>\n",
       "      <th></th>\n",
       "      <th></th>\n",
       "      <th></th>\n",
       "      <th></th>\n",
       "      <th></th>\n",
       "      <th></th>\n",
       "      <th></th>\n",
       "      <th></th>\n",
       "      <th></th>\n",
       "      <th></th>\n",
       "    </tr>\n",
       "  </thead>\n",
       "  <tbody>\n",
       "    <tr>\n",
       "      <th>100147785</th>\n",
       "      <td>0.175972</td>\n",
       "      <td>nan</td>\n",
       "      <td>PO</td>\n",
       "      <td>Posterior complex of the thalamus</td>\n",
       "      <td>M</td>\n",
       "      <td>[255, 144, 159]</td>\n",
       "      <td>[0]</td>\n",
       "      <td>[1020]</td>\n",
       "      <td>[100147785]</td>\n",
       "      <td>[7600.0, 3380.0, 7070.0]</td>\n",
       "    </tr>\n",
       "    <tr>\n",
       "      <th>100147853</th>\n",
       "      <td>0.073548</td>\n",
       "      <td>nan</td>\n",
       "      <td>VISp</td>\n",
       "      <td>Primary visual area</td>\n",
       "      <td>M</td>\n",
       "      <td>[8, 133, 140]</td>\n",
       "      <td>[0]</td>\n",
       "      <td>[385]</td>\n",
       "      <td>[100147853]</td>\n",
       "      <td>[9440.0, 1220.0, 8630.0]</td>\n",
       "    </tr>\n",
       "    <tr>\n",
       "      <th>100147861</th>\n",
       "      <td>0.138880</td>\n",
       "      <td>nan</td>\n",
       "      <td>CA1</td>\n",
       "      <td>Field CA1</td>\n",
       "      <td>M</td>\n",
       "      <td>[126, 208, 75]</td>\n",
       "      <td>[0]</td>\n",
       "      <td>[382]</td>\n",
       "      <td>[100147861]</td>\n",
       "      <td>[6640.0, 1650.0, 7510.0]</td>\n",
       "    </tr>\n",
       "    <tr>\n",
       "      <th>100148142</th>\n",
       "      <td>0.122178</td>\n",
       "      <td>nan</td>\n",
       "      <td>RSPv</td>\n",
       "      <td>Retrosplenial area, ventral part</td>\n",
       "      <td>M</td>\n",
       "      <td>[26, 166, 152]</td>\n",
       "      <td>[0]</td>\n",
       "      <td>[886]</td>\n",
       "      <td>[100148142]</td>\n",
       "      <td>[6830.0, 1260.0, 6160.0]</td>\n",
       "    </tr>\n",
       "    <tr>\n",
       "      <th>100148143</th>\n",
       "      <td>0.114309</td>\n",
       "      <td>nan</td>\n",
       "      <td>DG</td>\n",
       "      <td>Dentate gyrus</td>\n",
       "      <td>M</td>\n",
       "      <td>[126, 208, 75]</td>\n",
       "      <td>[0]</td>\n",
       "      <td>[726]</td>\n",
       "      <td>[100148143]</td>\n",
       "      <td>[6690.0, 2690.0, 6190.0]</td>\n",
       "    </tr>\n",
       "  </tbody>\n",
       "</table>\n",
       "</div>"
      ],
      "text/plain": [
       "           injection_volume transgenic_line structure_abbrev  \\\n",
       "ID                                                             \n",
       "100147785          0.175972             nan               PO   \n",
       "100147853          0.073548             nan             VISp   \n",
       "100147861          0.138880             nan              CA1   \n",
       "100148142          0.122178             nan             RSPv   \n",
       "100148143          0.114309             nan               DG   \n",
       "\n",
       "                              structure_name gender  structure_color  \\\n",
       "ID                                                                     \n",
       "100147785  Posterior complex of the thalamus      M  [255, 144, 159]   \n",
       "100147853                Primary visual area      M    [8, 133, 140]   \n",
       "100147861                          Field CA1      M   [126, 208, 75]   \n",
       "100148142   Retrosplenial area, ventral part      M   [26, 166, 152]   \n",
       "100148143                      Dentate gyrus      M   [126, 208, 75]   \n",
       "\n",
       "          padding15 structure_id experiment_id                     point  \n",
       "ID                                                                        \n",
       "100147785       [0]       [1020]   [100147785]  [7600.0, 3380.0, 7070.0]  \n",
       "100147853       [0]        [385]   [100147853]  [9440.0, 1220.0, 8630.0]  \n",
       "100147861       [0]        [382]   [100147861]  [6640.0, 1650.0, 7510.0]  \n",
       "100148142       [0]        [886]   [100148142]  [6830.0, 1260.0, 6160.0]  \n",
       "100148143       [0]        [726]   [100148143]  [6690.0, 2690.0, 6190.0]  "
      ]
     },
     "execution_count": 6,
     "metadata": {},
     "output_type": "execute_result"
    }
   ],
   "source": [
    "df = pre_ann.get_all_annotations()\n",
    "df.head()"
   ]
  },
  {
   "cell_type": "code",
   "execution_count": 7,
   "metadata": {},
   "outputs": [
    {
     "data": {
      "text/html": [
       "<div>\n",
       "<style scoped>\n",
       "    .dataframe tbody tr th:only-of-type {\n",
       "        vertical-align: middle;\n",
       "    }\n",
       "\n",
       "    .dataframe tbody tr th {\n",
       "        vertical-align: top;\n",
       "    }\n",
       "\n",
       "    .dataframe thead th {\n",
       "        text-align: right;\n",
       "    }\n",
       "</style>\n",
       "<table border=\"1\" class=\"dataframe\">\n",
       "  <thead>\n",
       "    <tr style=\"text-align: right;\">\n",
       "      <th></th>\n",
       "      <th>geometry</th>\n",
       "      <th>injection_volume</th>\n",
       "      <th>transgenic_line</th>\n",
       "      <th>structure_abbrev</th>\n",
       "      <th>structure_name</th>\n",
       "      <th>gender</th>\n",
       "      <th>structure_color</th>\n",
       "      <th>padding15</th>\n",
       "    </tr>\n",
       "    <tr>\n",
       "      <th>ID</th>\n",
       "      <th></th>\n",
       "      <th></th>\n",
       "      <th></th>\n",
       "      <th></th>\n",
       "      <th></th>\n",
       "      <th></th>\n",
       "      <th></th>\n",
       "      <th></th>\n",
       "    </tr>\n",
       "  </thead>\n",
       "  <tbody>\n",
       "    <tr>\n",
       "      <th>183225830</th>\n",
       "      <td>[6060.0, 4010.0, 5510.0]</td>\n",
       "      <td>0.236394</td>\n",
       "      <td>Grm2-Cre_MR90</td>\n",
       "      <td>PVT</td>\n",
       "      <td>Paraventricular nucleus of the thalamus</td>\n",
       "      <td>F</td>\n",
       "      <td>[255, 144, 159]</td>\n",
       "      <td>[0]</td>\n",
       "    </tr>\n",
       "    <tr>\n",
       "      <th>125830911</th>\n",
       "      <td>[5510.0, 3250.0, 5690.0]</td>\n",
       "      <td>0.268019</td>\n",
       "      <td>nan</td>\n",
       "      <td>LSr</td>\n",
       "      <td>Lateral septal nucleus, rostral (rostroventral...</td>\n",
       "      <td>M</td>\n",
       "      <td>[144, 203, 237]</td>\n",
       "      <td>[0]</td>\n",
       "    </tr>\n",
       "    <tr>\n",
       "      <th>182341627</th>\n",
       "      <td>[5350.0, 4050.0, 6040.0]</td>\n",
       "      <td>0.041936</td>\n",
       "      <td>Syt6-Cre_KI148</td>\n",
       "      <td>TRS</td>\n",
       "      <td>Triangular nucleus of septum</td>\n",
       "      <td>F</td>\n",
       "      <td>[150, 167, 211]</td>\n",
       "      <td>[0]</td>\n",
       "    </tr>\n",
       "    <tr>\n",
       "      <th>268399145</th>\n",
       "      <td>[6040.0, 3580.0, 6040.0]</td>\n",
       "      <td>0.050636</td>\n",
       "      <td>Ppp1r17-Cre_NL146</td>\n",
       "      <td>MD</td>\n",
       "      <td>Mediodorsal nucleus of thalamus</td>\n",
       "      <td>F</td>\n",
       "      <td>[255, 144, 159]</td>\n",
       "      <td>[0]</td>\n",
       "    </tr>\n",
       "    <tr>\n",
       "      <th>287950390</th>\n",
       "      <td>[5510.0, 3560.0, 6040.0]</td>\n",
       "      <td>0.046494</td>\n",
       "      <td>Calb2-IRES-Cre</td>\n",
       "      <td>TRS</td>\n",
       "      <td>Triangular nucleus of septum</td>\n",
       "      <td>F</td>\n",
       "      <td>[150, 167, 211]</td>\n",
       "      <td>[0]</td>\n",
       "    </tr>\n",
       "    <tr>\n",
       "      <th>178486024</th>\n",
       "      <td>[5140.0, 3570.0, 6140.0]</td>\n",
       "      <td>0.040623</td>\n",
       "      <td>Cart-Tg1-Cre</td>\n",
       "      <td>LSr</td>\n",
       "      <td>Lateral septal nucleus, rostral (rostroventral...</td>\n",
       "      <td>F</td>\n",
       "      <td>[144, 203, 237]</td>\n",
       "      <td>[0]</td>\n",
       "    </tr>\n",
       "  </tbody>\n",
       "</table>\n",
       "</div>"
      ],
      "text/plain": [
       "                           geometry  injection_volume    transgenic_line  \\\n",
       "ID                                                                         \n",
       "183225830  [6060.0, 4010.0, 5510.0]          0.236394      Grm2-Cre_MR90   \n",
       "125830911  [5510.0, 3250.0, 5690.0]          0.268019                nan   \n",
       "182341627  [5350.0, 4050.0, 6040.0]          0.041936     Syt6-Cre_KI148   \n",
       "268399145  [6040.0, 3580.0, 6040.0]          0.050636  Ppp1r17-Cre_NL146   \n",
       "287950390  [5510.0, 3560.0, 6040.0]          0.046494     Calb2-IRES-Cre   \n",
       "178486024  [5140.0, 3570.0, 6140.0]          0.040623       Cart-Tg1-Cre   \n",
       "\n",
       "          structure_abbrev                                     structure_name  \\\n",
       "ID                                                                              \n",
       "183225830              PVT            Paraventricular nucleus of the thalamus   \n",
       "125830911              LSr  Lateral septal nucleus, rostral (rostroventral...   \n",
       "182341627              TRS                       Triangular nucleus of septum   \n",
       "268399145               MD                    Mediodorsal nucleus of thalamus   \n",
       "287950390              TRS                       Triangular nucleus of septum   \n",
       "178486024              LSr  Lateral septal nucleus, rostral (rostroventral...   \n",
       "\n",
       "          gender  structure_color padding15  \n",
       "ID                                           \n",
       "183225830      F  [255, 144, 159]       [0]  \n",
       "125830911      M  [144, 203, 237]       [0]  \n",
       "182341627      F  [150, 167, 211]       [0]  \n",
       "268399145      F  [255, 144, 159]       [0]  \n",
       "287950390      F  [150, 167, 211]       [0]  \n",
       "178486024      F  [144, 203, 237]       [0]  "
      ]
     },
     "execution_count": 7,
     "metadata": {},
     "output_type": "execute_result"
    }
   ],
   "source": [
    "pre_ann.read_annotations_in_chunk('spatial0', chunk_index=[5,3,5])"
   ]
  }
 ],
 "metadata": {
  "kernelspec": {
   "display_name": ".venv",
   "language": "python",
   "name": "python3"
  },
  "language_info": {
   "codemirror_mode": {
    "name": "ipython",
    "version": 3
   },
   "file_extension": ".py",
   "mimetype": "text/x-python",
   "name": "python",
   "nbconvert_exporter": "python",
   "pygments_lexer": "ipython3",
   "version": "3.9.0"
  }
 },
 "nbformat": 4,
 "nbformat_minor": 2
}
